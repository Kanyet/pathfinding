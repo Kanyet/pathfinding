{
 "cells": [
  {
   "cell_type": "code",
   "execution_count": 2,
   "outputs": [],
   "source": [
    "from pathfiding.a_star import astar_path\n",
    "import numpy as np\n",
    "import matplotlib.pyplot as plt\n",
    "from matplotlib.colors import LinearSegmentedColormap\n",
    "\n",
    "%matplotlib inline"
   ],
   "metadata": {
    "collapsed": false,
    "pycharm": {
     "name": "#%%\n"
    }
   }
  },
  {
   "cell_type": "markdown",
   "source": [
    "## Create a Map"
   ],
   "metadata": {
    "collapsed": false,
    "pycharm": {
     "name": "#%% md\n"
    }
   }
  },
  {
   "cell_type": "code",
   "execution_count": 7,
   "outputs": [
    {
     "data": {
      "text/plain": "<matplotlib.image.AxesImage at 0x114ca1fa0>"
     },
     "execution_count": 7,
     "metadata": {},
     "output_type": "execute_result"
    },
    {
     "data": {
      "text/plain": "<Figure size 640x480 with 1 Axes>",
      "image/png": "[encoded data removed]"
     },
     "metadata": {},
     "output_type": "display_data"
    }
   ],
   "source": [
    "# obstacle_name: [(upper_left_corner), (upper_right_corner), (lower_left_corner), (lower_right_corner)]\n",
    "aisle_info = {\n",
    "  \"obstacle1\": [(1,1),(2,1),(1,1),(2,1)],\n",
    "  \"obstacle2\": [(1,3),(2,3),(1,3),(2,3)],\n",
    "  \"obstacle3\": [(1,5),(2,5),(1,5),(2,5)],\n",
    "  \"obstacle4\": [(4,1),(5,1),(4,1),(5,1)],\n",
    "  \"obstacle5\": [(4,3),(5,3),(4,3),(5,3)],\n",
    "  \"obstacle6\": [(4,5),(5,5),(4,5),(5,5)],\n",
    "  \"obstacle7\": [(7,1),(8,1),(7,1),(8,1)],\n",
    "  \"obstacle8\": [(7,3),(8,3),(7,3),(8,3)],\n",
    "  \"obstacle9\": [(7,5),(8,5),(7,5),(8,5)],\n",
    "}\n",
    "\n",
    "map_size = (7,10)\n",
    "map_gen = np.ones(map_size)\n",
    "\n",
    "for aisle_name, aisle_coords in aisle_info.items():\n",
    "    y_coords, x_coords = zip(*aisle_coords)\n",
    "    x_min, x_max = min(x_coords), max(x_coords)\n",
    "    y_min, y_max = min(y_coords), max(y_coords)\n",
    "    map_gen[x_min:x_max+1, y_min:y_max+1] = np.inf\n",
    "\n",
    "# colors = [\"#5FE849\", \"#B2AEAA\"]\n",
    "colors = [\"#78726d\", \"#B2AEAA\"]\n",
    "# colormap bases on the COLORS\n",
    "cmap = LinearSegmentedColormap.from_list(\n",
    "    \"map_color\", colors=colors, N=len(colors))\n",
    "\n",
    "fig, ax = plt.subplots()\n",
    "ax.imshow(map_gen, cmap=cmap)"
   ],
   "metadata": {
    "collapsed": false,
    "pycharm": {
     "name": "#%%\n"
    }
   }
  },
  {
   "cell_type": "code",
   "execution_count": 8,
   "outputs": [
    {
     "data": {
      "text/plain": "<Figure size 640x480 with 1 Axes>",
      "image/png": "[encoded data removed]"
     },
     "metadata": {},
     "output_type": "display_data"
    }
   ],
   "source": [
    "# Define the grid and the costs\n",
    "\n",
    "## Map selection\n",
    "WEIGHTS = True\n",
    "\n",
    "## grid includes 2 maps, each being as an nd.array\n",
    "## grid[0] is map with no costs assigned\n",
    "## grid[1] is map with costs\n",
    "## In the map, each entry represents the costs of stepping into it. eg. np.inf meaning an obstacle\n",
    "\n",
    "grid = {\n",
    "  0:map_gen,\n",
    "  1:np.array([\n",
    "    [3, 3, 3, 3, 3, 3, 3, 2.8, 3, 3],\n",
    "    [3, np.inf, np.inf, 3, np.inf, np.inf, 3, np.inf, np.inf, 3],\n",
    "    [3, 3, 3, 3, 2.8, 2.8, 3, 3, 3, 3],\n",
    "    [3, np.inf, np.inf, 3, np.inf, np.inf, 3, np.inf, np.inf, 3],\n",
    "    [3, 2.8, 2.8, 3, 3, 3, 3, 3, 3, 3],\n",
    "    [3, np.inf, np.inf, 3, np.inf, np.inf, 3, np.inf, np.inf, 3],\n",
    "    [3, 3, 3, 3, 3, 3, 3, 3, 3, 3],\n",
    "  ])\n",
    "}\n",
    "\n",
    "aisle_label = {k: v[0] for k, v in aisle_info.items()}\n",
    "\n",
    "store_map = grid[WEIGHTS]\n",
    "\n",
    "# Define the start and goal nodes\n",
    "start = (6, 0)\n",
    "goal = (0, 7)\n",
    "\n",
    "# Run the A* search algorithm\n",
    "path = astar_path(store_map, start, goal)\n",
    "path = [p for p in path if p is not None]\n",
    "\n",
    "path0 = astar_path(grid[False], start, goal)\n",
    "path0 = [p for p in path0 if p is not None]\n",
    "\n",
    "# colors = [\"#5FE849\", \"#B2AEAA\"]\n",
    "colors = [\"#78726d\", \"#B2AEAA\"]\n",
    "# colormap bases on the COLORS\n",
    "cmap = LinearSegmentedColormap.from_list(\n",
    "    \"map_color\", colors=colors, N=len(colors))\n",
    "\n",
    "fig, ax = plt.subplots()\n",
    "# ax.imshow(store_map, cmap=\"Blues\")\n",
    "ax.imshow(store_map, cmap=cmap)\n",
    "\n",
    "# Plot the aisle information\n",
    "for k, v in aisle_label.items():\n",
    "  ax.text(x=v[0], y=v[1], s=k, fontweight=\"bold\")\n",
    "\n",
    "# Plot the start and goal points as red and green dots\n",
    "ax.plot(start[1], start[0], 'ro', markersize=10)\n",
    "ax.plot(goal[1], goal[0], 'go', markersize=10)\n",
    "\n",
    "# Plot the path as a blue line\n",
    "path_xs, path_ys = zip(*path)\n",
    "ax.plot(path_ys, path_xs, 'b', linewidth=3)\n",
    "\n",
    "# Plot the path with no weights as a green line\n",
    "path_xs, path_ys = zip(*path0)\n",
    "ax.plot(path_ys, path_xs, 'g', linewidth=3)\n",
    "\n",
    "# Adjust the plot margins\n",
    "fig.subplots_adjust(left=0.05, right=0.95, top=0.95, bottom=0.05)\n",
    "\n",
    "# Show the plot\n",
    "plt.show()"
   ],
   "metadata": {
    "collapsed": false,
    "pycharm": {
     "name": "#%%\n"
    }
   }
  }
 ],
 "metadata": {
  "kernelspec": {
   "display_name": "Python 3",
   "language": "python",
   "name": "python3"
  },
  "language_info": {
   "codemirror_mode": {
    "name": "ipython",
    "version": 2
   },
   "file_extension": ".py",
   "mimetype": "text/x-python",
   "name": "python",
   "nbconvert_exporter": "python",
   "pygments_lexer": "ipython2",
   "version": "2.7.6"
  }
 },
 "nbformat": 4,
 "nbformat_minor": 0
}